{
 "cells": [
  {
   "cell_type": "markdown",
   "id": "educated-episode",
   "metadata": {},
   "source": [
    "### Text Summarization\n"
   ]
  },
  {
   "cell_type": "code",
   "execution_count": 1,
   "id": "incorporate-match",
   "metadata": {},
   "outputs": [],
   "source": [
    "from nltk.corpus import stopwords\n",
    "from nltk.stem import PorterStemmer\n",
    "from nltk.tokenize import word_tokenize, sent_tokenize\n"
   ]
  },
  {
   "cell_type": "code",
   "execution_count": 2,
   "id": "municipal-nancy",
   "metadata": {},
   "outputs": [],
   "source": [
    "text = '''Feeling very blue today. We found out that Barney is very sick. He’s my beloved Golden Retriever pup. Well, he’s not a pup anymore, he is 12, but for me, he always will be. The vet said he’s developed some kinda kidney disease. I worry if it’s too late to fix it at this point, the vet seemed worried as well. I have been trying to spend as much time with Barney as possible. Poor thing seems to be suffering. I feel super helpless and useless. I just wish we caught it earlier. There is a slight glimpse of hope though. Another vet said he might still recover. Unlikely but it might happen. Having a hard time focusing on my school or anything else. I tend to lose focus fast even when things are normal but especially right now. Everyone is stressing out about Barney and expecting the worst to happen. It’s heartbreaking. My younger brother Peter is very emotional. I mean I’m emotional but he’s taking it to another level. My parents are sad too. He has been part of our lives for so long that it’s hard to imagine otherwise. The one that’s always there for you and loves you unconditionally. I seem to be the only one who believes he’s gonna make it.\n",
    "'''"
   ]
  },
  {
   "cell_type": "code",
   "execution_count": 3,
   "id": "acknowledged-discussion",
   "metadata": {},
   "outputs": [],
   "source": [
    "def _create_frequency_table(text_string) -> dict:\n",
    "\n",
    "    stopWords = set(stopwords.words(\"english\"))\n",
    "    words = word_tokenize(text_string)\n",
    "    ps = PorterStemmer()\n",
    "\n",
    "    freqTable = dict()\n",
    "    for word in words:\n",
    "        word = ps.stem(word)\n",
    "        if word in stopWords:\n",
    "            continue\n",
    "        if word in freqTable:\n",
    "            freqTable[word] += 1\n",
    "        else:\n",
    "            freqTable[word] = 1\n",
    "\n",
    "    return freqTable"
   ]
  },
  {
   "cell_type": "code",
   "execution_count": 4,
   "id": "prescription-sheffield",
   "metadata": {},
   "outputs": [],
   "source": [
    "def _score_sentences(sentences, freqTable) -> dict:\n",
    "    sentenceValue = dict()\n",
    "\n",
    "    for sentence in sentences:\n",
    "        word_count_in_sentence = (len(word_tokenize(sentence)))\n",
    "        for wordValue in freqTable:\n",
    "            if wordValue in sentence.lower():\n",
    "                if sentence[:10] in sentenceValue:\n",
    "                    sentenceValue[sentence[:10]] += freqTable[wordValue]\n",
    "                else:\n",
    "                    sentenceValue[sentence[:10]] = freqTable[wordValue]\n",
    "\n",
    "        sentenceValue[sentence[:10]] = sentenceValue[sentence[:10]] // word_count_in_sentence\n",
    "\n",
    "    return sentenceValue"
   ]
  },
  {
   "cell_type": "code",
   "execution_count": 5,
   "id": "pleased-address",
   "metadata": {},
   "outputs": [],
   "source": [
    "def _find_average_score(sentenceValue) -> int:\n",
    "    sumValues = 0\n",
    "    for entry in sentenceValue:\n",
    "        sumValues += sentenceValue[entry]\n",
    "\n",
    "    average = int(sumValues / len(sentenceValue))\n",
    "\n",
    "    return average"
   ]
  },
  {
   "cell_type": "code",
   "execution_count": 6,
   "id": "unable-battle",
   "metadata": {},
   "outputs": [],
   "source": [
    "def _generate_summary(sentences, sentenceValue, threshold):\n",
    "    sentence_count = 0\n",
    "    summary = ''\n",
    "\n",
    "    for sentence in sentences:\n",
    "        if sentence[:10] in sentenceValue and sentenceValue[sentence[:10]] > (threshold):\n",
    "            summary += \" \" + sentence\n",
    "            sentence_count += 1\n",
    "\n",
    "    return summary"
   ]
  },
  {
   "cell_type": "code",
   "execution_count": 7,
   "id": "extended-virginia",
   "metadata": {},
   "outputs": [
    {
     "name": "stdout",
     "output_type": "stream",
     "text": [
      " Feeling very blue today. He’s my beloved Golden Retriever pup. Poor thing seems to be suffering. I feel super helpless and useless. Another vet said he might still recover. Unlikely but it might happen. It’s heartbreaking. My parents are sad too.\n"
     ]
    }
   ],
   "source": [
    "freq_table = _create_frequency_table(text)\n",
    "\n",
    "sentences = sent_tokenize(text)\n",
    "\n",
    "sentence_scores = _score_sentences(sentences, freq_table)\n",
    "\n",
    "threshold = _find_average_score(sentence_scores)\n",
    "\n",
    "summary = _generate_summary(sentences, sentence_scores, 1.3 * threshold)\n",
    "\n",
    "print(summary)"
   ]
  },
  {
   "cell_type": "markdown",
   "id": "subjective-broadcast",
   "metadata": {},
   "source": [
    "### Text Similarity Score"
   ]
  },
  {
   "cell_type": "code",
   "execution_count": 8,
   "id": "driven-genesis",
   "metadata": {},
   "outputs": [
    {
     "data": {
      "text/plain": [
       "(2, 768)"
      ]
     },
     "execution_count": 8,
     "metadata": {},
     "output_type": "execute_result"
    }
   ],
   "source": [
    "sen = [\"Feeling very blue today. We found out that Barney is very sick. He’s my beloved Golden Retriever pup. Well, he’s not a pup anymore, he is 12, but for me he always will be. The vet said he’s developed some kinda kidney disease. I worry if it’s too late to fix it at this point, the vet seemed worried as well. I have been trying to spend as much time with Barney as possible.Poor thing seems to be suffering. I feel super helpless and useless. I just wish we caught it earlier. There is a slight glimpse of hope though. Another vet said he might still recover. Unlikely but it might happen. Having a hard time focusing on my school or anything else. I tend to lose focus fast even when things are normal but especially right now. Everyone is stressing outabout Barney and expecting the worst to happen. It’s heartbreaking. My younger brother Peteris very emotional. I mean I’m emotional but he’s taking it to another level. My parents are sadtoo. He has been part of our lives for so long that it’s hard to imagine otherwise. The one that’salways there for you and loves you unconditionally. I seem to be the only one who believes he’s gonna make it.\",\n",
    " \"Had a huge fight with my mom today. I don’t like fighting and tend to avoid conflict. But my mom has no problem lashing out. She was saying very mean things about my dad. My mom &amp; dad are divorced, and he recently started another family. I am also struggling to accept it. My dad canceled on me AGAIN. I was very looking forward to our dinner. I should also mention that he JUST had another daughter. I understand he’s busy and all, but feeling rather neglected. He promised I would always be his priority, but it doesn’t look like it. Perhaps I shouldn’t have fought with my mom yesterday. Is she right about him? Maybe he is selfish. Decided to take my mind off my family drama. I love working out in my gym and today I saw an ad about marathon training. So I immediately signed up. I already did a half marathon before and loved it. Time to extend my horizons. It’s gonna be intense, but I’m ready. We’ll see how far I’ll go, but I feel determined.\"]\n",
    "\n",
    "from sentence_transformers import SentenceTransformer\n",
    "model = SentenceTransformer('bert-base-nli-mean-tokens')\n",
    "#Encoding:\n",
    "sen_embeddings = model.encode(sen)\n",
    "sen_embeddings.shape"
   ]
  },
  {
   "cell_type": "code",
   "execution_count": 9,
   "id": "geographic-spain",
   "metadata": {},
   "outputs": [],
   "source": [
    "from sklearn.metrics.pairwise import cosine_similarity\n",
    "sim = cosine_similarity(\n",
    "    [sen_embeddings[0]],\n",
    "    sen_embeddings[1:]\n",
    ")"
   ]
  },
  {
   "cell_type": "code",
   "execution_count": 10,
   "id": "damaged-mortality",
   "metadata": {},
   "outputs": [
    {
     "name": "stdout",
     "output_type": "stream",
     "text": [
      "[[75.62519]]\n"
     ]
    }
   ],
   "source": [
    "print(sim*100)"
   ]
  }
 ],
 "metadata": {
  "kernelspec": {
   "display_name": "Python 3",
   "language": "python",
   "name": "python3"
  },
  "language_info": {
   "codemirror_mode": {
    "name": "ipython",
    "version": 3
   },
   "file_extension": ".py",
   "mimetype": "text/x-python",
   "name": "python",
   "nbconvert_exporter": "python",
   "pygments_lexer": "ipython3",
   "version": "3.9.2"
  }
 },
 "nbformat": 4,
 "nbformat_minor": 5
}
